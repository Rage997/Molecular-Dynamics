{
 "cells": [
  {
   "cell_type": "code",
   "execution_count": 1,
   "id": "acb7f992",
   "metadata": {},
   "outputs": [],
   "source": [
    "import numpy as np"
   ]
  },
  {
   "cell_type": "code",
   "execution_count": 4,
   "id": "24379db0",
   "metadata": {},
   "outputs": [],
   "source": [
    "numberOfParticles = 100\n",
    "dimension = 2\n",
    "\n",
    "particlePositions = np.zeros((numberOfParticles, dimension))\n"
   ]
  },
  {
   "cell_type": "code",
   "execution_count": null,
   "id": "f0561c27",
   "metadata": {},
   "outputs": [],
   "source": [
    "def latticePositions():\n",
    "    '''Assigns particles randomly in a regular lattice'''\n",
    "\n",
    "    pointsInLattice = math.ceil(self.numberOfParticles**(1/self.dimension))\n",
    "\n",
    "    spots = np.linspace(0, self.boxLength, num=pointsInLattice, endpoint=False)\n",
    "    count = 0\n",
    "    for p in itertools.product(spots, repeat=self.dimension):\n",
    "        # we \"insert\" each line sequentially into the regular lattice\n",
    "        p = np.asarray(list(p))\n",
    "        self.particlePositions[count, :] = p\n",
    "        count += 1\n",
    "        if count>self.numberOfParticles-1:\n",
    "            break\n",
    "    # Scale factor of velocities\n",
    "    sumv2 = np.mean(self.particleVelocities**2, axis=0)\n",
    "    fs = np.sqrt(3*self.temperature/sumv2)\n",
    "    # Ensure that momentum is zero\n",
    "    v_cm = np.mean(self.particleVelocities, axis=0)\n",
    "    self.particleVelocities = fs*(self.particleVelocities - v_cm)"
   ]
  }
 ],
 "metadata": {
  "kernelspec": {
   "display_name": "Python 3",
   "language": "python",
   "name": "python3"
  },
  "language_info": {
   "codemirror_mode": {
    "name": "ipython",
    "version": 3
   },
   "file_extension": ".py",
   "mimetype": "text/x-python",
   "name": "python",
   "nbconvert_exporter": "python",
   "pygments_lexer": "ipython3",
   "version": "3.7.6"
  }
 },
 "nbformat": 4,
 "nbformat_minor": 5
}
